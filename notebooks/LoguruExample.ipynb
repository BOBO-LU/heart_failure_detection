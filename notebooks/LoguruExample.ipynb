{
 "cells": [
  {
   "cell_type": "code",
   "execution_count": 3,
   "metadata": {},
   "outputs": [
    {
     "name": "stderr",
     "output_type": "stream",
     "text": [
      "2022-07-26 10:34:04.836 | DEBUG    | __main__:<cell line: 3>:3 - That's it, beautiful and simple logging!\n"
     ]
    }
   ],
   "source": [
    "from loguru import logger\n",
    "import sys\n",
    "logger.debug(\"That's it, beautiful and simple logging!\")"
   ]
  },
  {
   "cell_type": "code",
   "execution_count": 6,
   "metadata": {},
   "outputs": [
    {
     "data": {
      "text/plain": [
       "5"
      ]
     },
     "execution_count": 6,
     "metadata": {},
     "output_type": "execute_result"
    }
   ],
   "source": [
    "logger.add(sys.stderr, format=\"{time} {level} {message}\", filter=\"my_module\", level=\"INFO\")\n",
    "logger.add(\"somefile.log\", enqueue=True)"
   ]
  },
  {
   "cell_type": "code",
   "execution_count": 23,
   "metadata": {},
   "outputs": [
    {
     "name": "stderr",
     "output_type": "stream",
     "text": [
      "2022-07-26 15:57:22.053 | INFO     | __main__:<cell line: 1>:1 - \n"
     ]
    }
   ],
   "source": [
    "logger.info(\"\")"
   ]
  },
  {
   "cell_type": "code",
   "execution_count": 21,
   "metadata": {},
   "outputs": [
    {
     "data": {
      "text/plain": [
       "6"
      ]
     },
     "execution_count": 21,
     "metadata": {},
     "output_type": "execute_result"
    }
   ],
   "source": [
    "logger.add(\"out.log\", backtrace=True, diagnose=True)"
   ]
  },
  {
   "cell_type": "code",
   "execution_count": 22,
   "metadata": {},
   "outputs": [
    {
     "name": "stderr",
     "output_type": "stream",
     "text": [
      "2022-07-26 12:55:33.200 | ERROR    | __main__:<cell line: 1>:1 - test\n"
     ]
    }
   ],
   "source": [
    "logger.error('test');"
   ]
  },
  {
   "cell_type": "code",
   "execution_count": 12,
   "metadata": {},
   "outputs": [
    {
     "name": "stderr",
     "output_type": "stream",
     "text": [
      "2022-07-26 12:47:01.711 | DEBUG    | __main__:<cell line: 4>:4 - If sink level <= DEBUG: <generator object expensive_function at 0x109da7510>\n",
      "--- Logging error in Loguru Handler #5 ---\n",
      "Record was: {'elapsed': datetime.timedelta(seconds=8169, microseconds=649544), 'exception': None, 'extra': {'x': <generator object expensive_function at 0x109da7510>}, 'file': (name='3855652908.py', path='/var/folders/q3/lzv11dq93c7_blcczw7qyv480000gn/T/ipykernel_64097/3855652908.py'), 'function': '<cell line: 4>', 'level': (name='DEBUG', no=10, icon='🐞'), 'line': 4, 'message': 'If sink level <= DEBUG: <generator object expensive_function at 0x109da7510>', 'module': '3855652908', 'name': '__main__', 'process': (id=64097, name='MainProcess'), 'thread': (id=4365829504, name='MainThread'), 'time': datetime(2022, 7, 26, 12, 47, 1, 711918, tzinfo=datetime.timezone(datetime.timedelta(seconds=28800), 'CST'))}\n",
      "Traceback (most recent call last):\n",
      "  File \"/Users/bobo/Code/hypergol-test/heart_failure_detection/.venv/lib/python3.9/site-packages/loguru/_handler.py\", line 175, in emit\n",
      "    self._queue.put(str_record)\n",
      "  File \"/opt/homebrew/Cellar/python@3.9/3.9.13_1/Frameworks/Python.framework/Versions/3.9/lib/python3.9/multiprocessing/queues.py\", line 371, in put\n",
      "    obj = _ForkingPickler.dumps(obj)\n",
      "  File \"/opt/homebrew/Cellar/python@3.9/3.9.13_1/Frameworks/Python.framework/Versions/3.9/lib/python3.9/multiprocessing/reduction.py\", line 51, in dumps\n",
      "    cls(buf, protocol).dump(obj)\n",
      "TypeError: cannot pickle 'generator' object\n",
      "--- End of logging error ---\n",
      "2022-07-26 12:47:01.713 | INFO     | __main__:<cell line: 7>:7 - Error stacktrace added to the log message (tuple accepted too)\n",
      "NoneType: None\n",
      "2022-07-26 12:47:01.714 | INFO     | __main__:<cell line: 8>:8 - Per message colors\n",
      "2022-07-26 12:47:01.714 | INFO     | __main__:<cell line: 9>:9 - Display values from the record (eg. 4365829504)\n",
      "Bypass sink formatting\n",
      "2022-07-26 12:47:01.715 | INFO     | IPython.core.interactiveshell:run_code:3398 - Use parent stack context (useful within wrapped functions)\n",
      "2022-07-26 12:47:01.715 | INFO     | __main__:<cell line: 12>:12 - Keyword arguments not added to extra dict\n"
     ]
    }
   ],
   "source": [
    "def expensive_function(a):\n",
    "    for _ in a:\n",
    "        yield a\n",
    "logger.opt(lazy=True).debug(\"If sink level <= DEBUG: {x}\", x=lambda: expensive_function(2**64))\n",
    "\n",
    "# By the way, \"opt()\" serves many usages\n",
    "logger.opt(exception=True).info(\"Error stacktrace added to the log message (tuple accepted too)\")\n",
    "logger.opt(colors=True).info(\"Per message <blue>colors</blue>\")\n",
    "logger.opt(record=True).info(\"Display values from the record (eg. {record[thread]})\")\n",
    "logger.opt(raw=True).info(\"Bypass sink formatting\\n\")\n",
    "logger.opt(depth=1).info(\"Use parent stack context (useful within wrapped functions)\")\n",
    "logger.opt(capture=False).info(\"Keyword arguments not added to {dest} dict\", dest=\"extra\")"
   ]
  },
  {
   "cell_type": "code",
   "execution_count": null,
   "metadata": {},
   "outputs": [],
   "source": [
    "new_level = logger.level(\"SNAKY\", no=38, color=\"<yellow>\", icon=\"🐍\")\n",
    "\n",
    "logger.log(\"SNAKY\", \"Here we go!\")"
   ]
  },
  {
   "cell_type": "code",
   "execution_count": null,
   "metadata": {},
   "outputs": [],
   "source": [
    "logger.add(\"file.log\", format=\"{time:YYYY-MM-DD at HH:mm:ss} | {level} | {message}\")"
   ]
  },
  {
   "cell_type": "code",
   "execution_count": null,
   "metadata": {},
   "outputs": [],
   "source": [
    "# For scripts\n",
    "config = {\n",
    "    \"handlers\": [\n",
    "        {\"sink\": sys.stdout, \"format\": \"{time} - {message}\"},\n",
    "        {\"sink\": \"file.log\", \"serialize\": True},\n",
    "    ],\n",
    "    \"extra\": {\"user\": \"someone\"}\n",
    "}\n",
    "logger.configure(**config)\n",
    "\n",
    "# For libraries\n",
    "logger.disable(\"my_library\")\n",
    "logger.info(\"No matter added sinks, this message is not displayed\")\n",
    "logger.enable(\"my_library\")\n",
    "logger.info(\"This message however is propagated to the sinks\")"
   ]
  }
 ],
 "metadata": {
  "kernelspec": {
   "display_name": "heart_failure_detection",
   "language": "python",
   "name": "heart_failure_detection"
  },
  "language_info": {
   "codemirror_mode": {
    "name": "ipython",
    "version": 3
   },
   "file_extension": ".py",
   "mimetype": "text/x-python",
   "name": "python",
   "nbconvert_exporter": "python",
   "pygments_lexer": "ipython3",
   "version": "3.9.13"
  },
  "orig_nbformat": 4
 },
 "nbformat": 4,
 "nbformat_minor": 2
}
