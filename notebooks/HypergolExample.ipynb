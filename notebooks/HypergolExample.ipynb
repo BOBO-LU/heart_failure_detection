{
 "cells": [
  {
   "cell_type": "code",
   "execution_count": 20,
   "id": "4801f9f3",
   "metadata": {},
   "outputs": [],
   "source": [
    "import sys\n",
    "sys.path.insert(0, '/Users/bobo/Code/hypergol-test/heart_failure_detection')\n",
    "import os\n",
    "os.environ['PROJECT_PROFILE'] = \"MacBook-Pro-4.local_bobo\"\n",
    "os.environ['PROJECT_LOCATION'] = \"/Users/bobo/Code/hypergol-test/heart_failure_detection\"\n",
    "from data_models.example_class import ExampleClass\n",
    "from data_models.other_example import OtherExample\n",
    "from data_models.ppg_segment_5_min import PpgSegment5Min\n",
    "from src.data.dataset import Dataset\n",
    "from datetime import date\n",
    "from datetime import datetime\n",
    "from src.config.config import create_config_template, read_config, write_plainconfig, create_new_experiment\n",
    "from src.config.env_manager import get_env_config, setup_env_config"
   ]
  },
  {
   "cell_type": "code",
   "execution_count": 21,
   "id": "6f17af18",
   "metadata": {},
   "outputs": [
    {
     "name": "stdout",
     "output_type": "stream",
     "text": [
      "Please change the raw_data_folder in config.ini\n",
      "Using profile:  MacBook-Pro-4.local_bobo\n"
     ]
    }
   ],
   "source": [
    "setup_env_config()\n",
    "env_config = get_env_config()"
   ]
  },
  {
   "cell_type": "code",
   "execution_count": 3,
   "id": "725d38f9",
   "metadata": {},
   "outputs": [],
   "source": [
    "cfg = read_config(env_config['PARAMETER_LOCATION'])"
   ]
  },
  {
   "cell_type": "markdown",
   "id": "d1296ff1",
   "metadata": {},
   "source": []
  },
  {
   "cell_type": "code",
   "execution_count": null,
   "id": "3a7d845f",
   "metadata": {},
   "outputs": [],
   "source": [
    "python3 -m hypergol.cli.create_data_model ppg_segment_5_min id:int:id age:int pid:int event:int nyha:int start_time:datetime \"ppg:List[float]\" \"x:List[float]\" \"y:List[float]\" \"z:List[float]\""
   ]
  },
  {
   "cell_type": "code",
   "execution_count": 22,
   "id": "da5cd5e9",
   "metadata": {},
   "outputs": [],
   "source": [
    "root = \"/Users/bobo/Code/ftp_data/聯發科PPG Raw Data\"\n",
    "col_name = ['datetime', 'ppg_ts', 'ppg', 'acc_ts', 'x', 'y', 'z']\n",
    "\n"
   ]
  },
  {
   "cell_type": "code",
   "execution_count": null,
   "id": "5fc1812f",
   "metadata": {},
   "outputs": [],
   "source": [
    "id: int, age: int, pid: int, event: int, nyha: int, start_time: datetime, ppg: List[float], x: List[float], y: List[float], z: List[float])"
   ]
  },
  {
   "cell_type": "code",
   "execution_count": 23,
   "id": "bea6f4a3",
   "metadata": {},
   "outputs": [
    {
     "name": "stdout",
     "output_type": "stream",
     "text": [
      "Dummy repodata was used, data lineage disabled\n"
     ]
    }
   ],
   "source": [
    "dataset=Dataset(\n",
    "    dataType=PpgSegment5Min,\n",
    "    location=env_config['raw_data_folder'],\n",
    "    project='heart-failure',\n",
    "    branch=env_config['project_profile'],\n",
    "    name='raw_ppg_test',\n",
    "    chunkCount=16,\n",
    "    repoData=None\n",
    ")"
   ]
  },
  {
   "cell_type": "code",
   "execution_count": 24,
   "id": "42ad5300",
   "metadata": {},
   "outputs": [],
   "source": [
    "import pandas as pd\n",
    "import numpy as np\n",
    "from scipy.interpolate import interp1d\n",
    "import heartpy as hp"
   ]
  },
  {
   "cell_type": "code",
   "execution_count": 25,
   "id": "572a7e41",
   "metadata": {},
   "outputs": [],
   "source": [
    "def interpolate_acc(df):\n",
    "    \n",
    "    acc = df[['acc_ts', 'x', 'y', 'z']].copy()\n",
    "    ppg = df[['datetime', 'ppg_ts', 'ppg']].copy()\n",
    "\n",
    "    acc.dropna(inplace=True)\n",
    "    ppg.dropna(inplace=True)\n",
    "\n",
    "    x = np.arange(acc.shape[0])\n",
    "    y_x = np.array(acc['x'])\n",
    "    y_y = np.array(acc['y'])\n",
    "    y_z = np.array(acc['z'])\n",
    "\n",
    "    xnew = np.arange(0, acc.shape[0], acc.shape[0]/ppg.shape[0])\n",
    "    f_x = interp1d(x, y_x, bounds_error=False, fill_value=\"extrapolate\")\n",
    "    f_y = interp1d(x, y_y, bounds_error=False, fill_value=\"extrapolate\")\n",
    "    f_z = interp1d(x, y_z, bounds_error=False, fill_value=\"extrapolate\")\n",
    "\n",
    "    x_xnew, x_ynew, x_znew = f_x(xnew), f_y(xnew), f_z(xnew)\n",
    "\n",
    "    print(x.shape, xnew.shape)\n",
    "    print(y_x.shape, x_xnew.shape)\n",
    "    df['x_new'], df['y_new'], df['z_new'] = [x_xnew, x_ynew, x_znew]\n",
    "    return df\n",
    "\n",
    "def Pythagorean_3d(arr):\n",
    "    \"\"\"\n",
    "    ab = Pythagorean_3d(ppg_df[['x_new', 'y_new', 'z_new']].to_numpy())\n",
    "    ppg_df['tri_acc'] = np.array(ab)\n",
    "    \"\"\"\n",
    "    a,b,c = np.hsplit(arr, 3)\n",
    "    return np.around(((a**2 + b**2 + c**2) ** (1/2)), 5)\n",
    "\n",
    "def df_preprocess(fpath: str):\n",
    "    \n",
    "    ppg_df = pd.read_csv(fpath, names=col_name, header=None)\n",
    "\n",
    "    #  data preprocess\n",
    "    try:\n",
    "        # timestsamp preprocessing\n",
    "        ppg_df['datetime'] = ppg_df['datetime'].replace(\n",
    "            to_replace=0, method='bfill')\n",
    "        ppg_df = ppg_df[ppg_df['datetime'] > 0]\n",
    "        ppg_df['time'] = pd.to_datetime(ppg_df['datetime'], format=TIME_FORMAT)\n",
    "        ppg_df.index = pd.to_datetime(ppg_df['datetime'], format=TIME_FORMAT)\n",
    "\n",
    "        # interpolate\n",
    "        ppg_df = interpolate_acc(ppg_df)\n",
    "        ppg_df = ppg_df.dropna()\n",
    "\n",
    "        # get trixial\n",
    "        ab = Pythagorean_3d(ppg_df[['x_new', 'y_new', 'z_new']].to_numpy())\n",
    "        ppg_df['tri_acc'] = np.array(ab)\n",
    "        return ppg_df\n",
    "\n",
    "    except Exception as e:\n",
    "        print(e)\n",
    "        raise RuntimeError"
   ]
  },
  {
   "cell_type": "code",
   "execution_count": 26,
   "id": "8e3bde7d",
   "metadata": {},
   "outputs": [
    {
     "name": "stdout",
     "output_type": "stream",
     "text": [
      "(4202056,) (4304896,)\n",
      "(4202056,) (4304896,)\n"
     ]
    },
    {
     "data": {
      "text/plain": [
       "[2,\n",
       " 3,\n",
       " 5,\n",
       " 6,\n",
       " 7,\n",
       " 9,\n",
       " 12,\n",
       " 13,\n",
       " 14,\n",
       " 16,\n",
       " 17,\n",
       " 18,\n",
       " 19,\n",
       " 20,\n",
       " 21,\n",
       " 22,\n",
       " 23,\n",
       " 24,\n",
       " 25,\n",
       " 26,\n",
       " 27,\n",
       " 28,\n",
       " 29,\n",
       " 31,\n",
       " 32,\n",
       " 33,\n",
       " 34,\n",
       " 37,\n",
       " 38,\n",
       " 39,\n",
       " 40,\n",
       " 41,\n",
       " 42,\n",
       " 44,\n",
       " 45,\n",
       " 46,\n",
       " 47,\n",
       " 48,\n",
       " 49,\n",
       " 50]"
      ]
     },
     "execution_count": 26,
     "metadata": {},
     "output_type": "execute_result"
    }
   ],
   "source": [
    "label_df = pd.read_csv(\"/Users/bobo/Code/ftp_data/patient_data.csv\", index_col=0)\n",
    "fpath = \"/Users/bobo/Code/ftp_data/聯發科PPG Raw Data/TVGH002/20190408184835_raw.csv\"\n",
    "TIME_FORMAT = '%Y%m%d%H%M%S'\n",
    "df = df_preprocess(fpath)\n",
    "\n",
    "patient_folders = next(os.walk('/Users/bobo/Code/ftp_data/聯發科PPG Raw Data'), (None, None, []))[1]\n",
    "patient_id_list = sorted([int(f[4:]) for f in patient_folders if (\n",
    "    f.find('TVGH') != -1 and not f.endswith(\"(x)\"))])\n",
    "patient_id_list"
   ]
  },
  {
   "cell_type": "code",
   "execution_count": 10,
   "id": "1607395e",
   "metadata": {},
   "outputs": [],
   "source": [
    "import logging\n",
    "\n",
    "FORMAT = '%(asctime)s  %(levelname)s  %(message)s'\n",
    "logging.basicConfig(\n",
    "    format=FORMAT, filename=\"/Users/bobo/Code/hypergol-test/heart_failure_detection/log.txt\", level=0)\n",
    "logging.info(\"test\")"
   ]
  },
  {
   "cell_type": "code",
   "execution_count": null,
   "id": "d6552f3f",
   "metadata": {},
   "outputs": [],
   "source": [
    "dataset.delete()\n",
    "\n",
    "counter = 0\n",
    "\n",
    "with dataset.open('w') as datasetWriter:\n",
    "    for pid in patient_id_list:\n",
    "        logging.info(f\"start pid: {pid}\")\n",
    "        patient_num = 'TVGH%03d' % pid\n",
    "        root = os.path.join('/Users/bobo/Code/ftp_data/聯發科PPG Raw Data', patient_num)\n",
    "        filenames = next(os.walk(root), (None, None, []))[2]\n",
    "        filenames = [f for f in filenames if f.find('.csv') != -1]\n",
    "        attr = label_df.loc[pid][['patient_id', 'csv num', 'Age ', 'Gender', 'NYHA', 'Event label']].to_list()\n",
    "        for f in filenames:\n",
    "            logging.info(f\"start file: {f}\")\n",
    "            fpath = os.path.join(root, f)\n",
    "            try:\n",
    "                ppg_df = df_preprocess(fpath)\n",
    "            except Exception as e:\n",
    "                logging.error(f\"PID={pid}, id : {counter}, file: {f}, status: {'preprocess error'}: {e}\", )\n",
    "                continue\n",
    "            window = hp.peakdetection.make_windows(ppg_df['ppg'], 64, windowsize=5*60, overlap=0, min_size=19200)\n",
    "            for w_start, w_end in window:\n",
    "                try:\n",
    "                    sample = ppg_df.iloc[w_start:w_end]['ppg'].to_list()[:19200]\n",
    "                    acc = ppg_df.iloc[w_start:w_end]['tri_acc'].to_list()[:19200]\n",
    "                    start = ppg_df.iloc[w_start].time\n",
    "                    datasetWriter.append(\n",
    "                        PpgSegment5Min(\n",
    "                            id = counter,\n",
    "                            age = attr[2], \n",
    "                            pid = attr[0],\n",
    "                            event = attr[5],\n",
    "                            nyha = attr[4],\n",
    "                            start_time = start,\n",
    "                            ppg = sample, \n",
    "                            tri_acc = acc)\n",
    "                    )\n",
    "                    counter += 1\n",
    "                except Exception as e:\n",
    "                    logging.error(f\"PID={pid}, id : {counter}, file: {f}, status: {'writing error'}: {e}\", )\n",
    "                    continue"
   ]
  },
  {
   "cell_type": "markdown",
   "id": "ed2f78fc",
   "metadata": {},
   "source": [
    "### test dataset"
   ]
  },
  {
   "cell_type": "code",
   "execution_count": 27,
   "id": "a30d77b3",
   "metadata": {},
   "outputs": [
    {
     "name": "stdout",
     "output_type": "stream",
     "text": [
      "(5340745,) (5357248,)\n",
      "(5340745,) (5357248,)\n"
     ]
    }
   ],
   "source": [
    "datasetWriter = dataset.open('w')\n",
    "\n",
    "\n",
    "for pid in patient_id_list:\n",
    "    logging.info(f\"start pid: {pid}\")\n",
    "    patient_num = 'TVGH%03d' % pid\n",
    "    root = os.path.join('/Users/bobo/Code/ftp_data/聯發科PPG Raw Data', patient_num)\n",
    "    filenames = next(os.walk(root), (None, None, []))[2]\n",
    "    filenames = [f for f in filenames if f.find('.csv') != -1]\n",
    "    attr = label_df.loc[pid][['patient_id', 'csv num', 'Age ', 'Gender', 'NYHA', 'Event label']].to_list()\n",
    "    for f in filenames:\n",
    "        logging.info(f\"start file: {f}\")\n",
    "        fpath = os.path.join(root, f)\n",
    "        try:\n",
    "            ppg_df = df_preprocess(fpath)\n",
    "        except Exception as e:\n",
    "            logging.error(f\"PID={pid}, id : {counter}, file: {f}, status: {'preprocess error'}: {e}\", )\n",
    "            continue\n",
    "        window = hp.peakdetection.make_windows(ppg_df['ppg'], 64, windowsize=5*60, overlap=0, min_size=19200)\n",
    "        for w_start, w_end in window:\n",
    "            try:\n",
    "                sample = ppg_df.iloc[w_start:w_end]['ppg'].to_list()[:19200]\n",
    "                acc = ppg_df.iloc[w_start:w_end]['tri_acc'].to_list()[:19200]\n",
    "                start = ppg_df.iloc[w_start].time\n",
    "                datasetWriter.append(\n",
    "                    PpgSegment5Min(\n",
    "                        id = counter,\n",
    "                        age = attr[2], \n",
    "                        pid = attr[0],\n",
    "                        event = attr[5],\n",
    "                        nyha = attr[4],\n",
    "                        start_time = start,\n",
    "                        ppg = sample, \n",
    "                        tri_acc = acc)\n",
    "                )\n",
    "                counter += 1\n",
    "            except Exception as e:\n",
    "                logging.error(f\"PID={pid}, id : {counter}, file: {f}, status: {'writing error'}: {e}\", )\n",
    "                continue\n",
    "        break\n",
    "    break\n",
    "datasetWriter.close()"
   ]
  },
  {
   "cell_type": "code",
   "execution_count": 12,
   "id": "e38a8e9d",
   "metadata": {},
   "outputs": [],
   "source": [
    "with dataset.open('r') as datasetReader:\n",
    "    for data in datasetReader:\n",
    "        test = (data)\n"
   ]
  },
  {
   "cell_type": "markdown",
   "id": "f3a34479",
   "metadata": {},
   "source": [
    "## read data"
   ]
  },
  {
   "cell_type": "code",
   "execution_count": 29,
   "id": "ecedbbcc",
   "metadata": {},
   "outputs": [
    {
     "name": "stdout",
     "output_type": "stream",
     "text": [
      "Dummy repodata was used, data lineage disabled\n"
     ]
    }
   ],
   "source": [
    "dataset=Dataset(\n",
    "        dataType=PpgSegment5Min,\n",
    "        location=env_config['raw_data_folder'],\n",
    "        project='heart-failure',\n",
    "        branch=env_config['project_profile'],\n",
    "        name='raw_ppg_test',\n",
    "        chunkCount=16,\n",
    "        repoData=None\n",
    "    )"
   ]
  },
  {
   "cell_type": "code",
   "execution_count": 43,
   "id": "c25c265f",
   "metadata": {},
   "outputs": [],
   "source": [
    "import warnings\n",
    "warnings.filterwarnings('ignore')"
   ]
  },
  {
   "cell_type": "code",
   "execution_count": 32,
   "id": "563aae8b",
   "metadata": {},
   "outputs": [],
   "source": [
    "def denoising(data):\n",
    "    MA_WINDOW_SIZE = 3\n",
    "    SAMPLE_RATE = 64.0\n",
    "    AVG_WINDOW_SIZE = 2\n",
    "    LOWER_BOUND = 0\n",
    "    UPPER_BOUND = 1\n",
    "    OVERLAP = 0.8\n",
    "    data = hp.preprocessing.scale_data(\n",
    "        data, lower=LOWER_BOUND, upper=UPPER_BOUND)\n",
    "\n",
    "    # Baseline Wander Removal with Wavelet Transform\n",
    "    # data = baseline_remove(data)\n",
    "\n",
    "    # Baseline Wander Removal with Notch Filter\n",
    "    # data = hp.remove_baseline_wander(\n",
    "    #     data, SAMPLE_RATE, cutoff=0.005)\n",
    "\n",
    "    # Moving average\n",
    "    data = window_scaling(\n",
    "        data, SAMPLE_RATE, windowsize=MA_WINDOW_SIZE, lower=0, upper=1000)\n",
    "\n",
    "    data = hp.filter_signal(\n",
    "        data, cutoff=[0.7, 3.5], sample_rate=SAMPLE_RATE, order=3, filtertype='bandpass')\n",
    "\n",
    "    # calculate bpm and other data\n",
    "    working_data, measures = hp.process(data, sample_rate=SAMPLE_RATE, windowsize=AVG_WINDOW_SIZE, report_time=False,\n",
    "                                        calc_freq=True, freq_method='fft', welch_wsize=240, freq_square=False,\n",
    "                                        interp_clipping=True, clipping_scale=True, interp_threshold=1020,\n",
    "                                        hampel_correct=False, bpmmin=40, bpmmax=180, reject_segmentwise=False,\n",
    "                                        high_precision=True, high_precision_fs=128.0, breathing_method='welch',\n",
    "                                        clean_rr=True, clean_rr_method='z-score', measures=None, working_data=None)\n",
    "\n",
    "    return data, working_data, measures\n",
    "\n",
    "def window_scaling(data, sample_rate, windowsize=2.5, lower=0, upper=1024):\n",
    "    window_dimension = int(windowsize * sample_rate)\n",
    "\n",
    "    data_start = 0\n",
    "    data_end = window_dimension\n",
    "\n",
    "    output = np.empty(len(data))\n",
    "\n",
    "    while data_end <= len(data):\n",
    "        sliced = data[data_start:data_end]\n",
    "        sliced = np.power(sliced, 2)\n",
    "        scaled = scale_data(sliced, lower, upper)\n",
    "\n",
    "        output[data_start:data_end] = scaled\n",
    "        data_start += window_dimension\n",
    "        data_end += window_dimension\n",
    "\n",
    "    return np.array(output[0:data_start])\n",
    "\n",
    "def scale_data(data, lower=0, upper=1024):\n",
    "    rng = np.max(data) - np.min(data)\n",
    "    minimum = np.min(data)\n",
    "    data = (upper - lower) * ((data - minimum) / rng) + lower\n",
    "    return data"
   ]
  },
  {
   "cell_type": "code",
   "execution_count": 48,
   "id": "991e4ade",
   "metadata": {},
   "outputs": [
    {
     "name": "stdout",
     "output_type": "stream",
     "text": [
      "denoiseing error:  invalid number of data points (0) specified\n"
     ]
    },
    {
     "data": {
      "text/plain": [
       "1"
      ]
     },
     "execution_count": 48,
     "metadata": {},
     "output_type": "execute_result"
    }
   ],
   "source": [
    "denoise_error_count = 0\n",
    "error_data = []\n",
    "with dataset.open('r') as datasetReader:\n",
    "    for data in datasetReader:\n",
    "        test = (data)\n",
    "        try:\n",
    "            hr, working_data, measures = denoising(test.ppg)\n",
    "            # hr, working_data, measures = denoising_BL_Notch_WS_BP(sample)\n",
    "        except Exception as e:\n",
    "            print(\"denoiseing error: \", e)\n",
    "            denoise_error_count+= 1\n",
    "            error_data.append(test)\n",
    "denoise_error_count\n"
   ]
  },
  {
   "cell_type": "markdown",
   "id": "05833848",
   "metadata": {},
   "source": [
    "## example"
   ]
  },
  {
   "cell_type": "code",
   "execution_count": 5,
   "id": "21cd91ef",
   "metadata": {},
   "outputs": [
    {
     "name": "stdout",
     "output_type": "stream",
     "text": [
      "Dummy repodata was used, data lineage disabled\n"
     ]
    }
   ],
   "source": [
    "dataset=Dataset(\n",
    "    dataType=OtherExample,\n",
    "    location=env_config['raw_data_folder'],\n",
    "    project='heart-failure',\n",
    "    branch=env_config['project_profile'],\n",
    "    name='raw_ppg',\n",
    "    chunkCount=16,\n",
    "    repoData=None\n",
    ")"
   ]
  },
  {
   "cell_type": "code",
   "execution_count": 40,
   "id": "324bbd18",
   "metadata": {},
   "outputs": [],
   "source": [
    "dataset.delete()"
   ]
  },
  {
   "cell_type": "code",
   "execution_count": 6,
   "id": "2637ff53",
   "metadata": {},
   "outputs": [],
   "source": [
    "with dataset.open('w') as datasetWriter:\n",
    "    for k in range(100):\n",
    "        datasetWriter.append(OtherExample(\n",
    "            classId=k,\n",
    "            name=str(k),\n",
    "            values=[\n",
    "                ExampleClass(classId=k, value=0.1, name=str(k), creation=datetime.now()),\n",
    "                ExampleClass(classId=k, value=0.1, name=str(k), creation=datetime.now())\n",
    "            ],\n",
    "            dates=[date.today(), date.today()]\n",
    "        ))"
   ]
  },
  {
   "cell_type": "code",
   "execution_count": 9,
   "id": "3c483062",
   "metadata": {},
   "outputs": [
    {
     "name": "stdout",
     "output_type": "stream",
     "text": [
      "<class 'src.data.dataset.DatasetReader'>\n",
      "OtherExample(classId=9, name=9, values=[ExampleClass(classId=9, value=0.1, name=9, creation=2022-07-24 20:33:06.238326), ExampleClass(classId=9, value=0.1, name=9, creation=2022-07-24 20:33:06.238327)], dates=[datetime.date(2022, 7, 24), datetime.date(2022, 7, 24)])\n",
      "OtherExample(classId=17, name=17, values=[ExampleClass(classId=17, value=0.1, name=17, creation=2022-07-24 20:33:06.238431), ExampleClass(classId=17, value=0.1, name=17, creation=2022-07-24 20:33:06.238431)], dates=[datetime.date(2022, 7, 24), datetime.date(2022, 7, 24)])\n",
      "OtherExample(classId=28, name=28, values=[ExampleClass(classId=28, value=0.1, name=28, creation=2022-07-24 20:33:06.238663), ExampleClass(classId=28, value=0.1, name=28, creation=2022-07-24 20:33:06.238663)], dates=[datetime.date(2022, 7, 24), datetime.date(2022, 7, 24)])\n",
      "OtherExample(classId=43, name=43, values=[ExampleClass(classId=43, value=0.1, name=43, creation=2022-07-24 20:33:06.238856), ExampleClass(classId=43, value=0.1, name=43, creation=2022-07-24 20:33:06.238857)], dates=[datetime.date(2022, 7, 24), datetime.date(2022, 7, 24)])\n",
      "OtherExample(classId=93, name=93, values=[ExampleClass(classId=93, value=0.1, name=93, creation=2022-07-24 20:33:06.239502), ExampleClass(classId=93, value=0.1, name=93, creation=2022-07-24 20:33:06.239503)], dates=[datetime.date(2022, 7, 24), datetime.date(2022, 7, 24)])\n",
      "OtherExample(classId=4, name=4, values=[ExampleClass(classId=4, value=0.1, name=4, creation=2022-07-24 20:33:06.238261), ExampleClass(classId=4, value=0.1, name=4, creation=2022-07-24 20:33:06.238261)], dates=[datetime.date(2022, 7, 24), datetime.date(2022, 7, 24)])\n",
      "OtherExample(classId=11, name=11, values=[ExampleClass(classId=11, value=0.1, name=11, creation=2022-07-24 20:33:06.238353), ExampleClass(classId=11, value=0.1, name=11, creation=2022-07-24 20:33:06.238354)], dates=[datetime.date(2022, 7, 24), datetime.date(2022, 7, 24)])\n",
      "OtherExample(classId=16, name=16, values=[ExampleClass(classId=16, value=0.1, name=16, creation=2022-07-24 20:33:06.238418), ExampleClass(classId=16, value=0.1, name=16, creation=2022-07-24 20:33:06.238419)], dates=[datetime.date(2022, 7, 24), datetime.date(2022, 7, 24)])\n",
      "OtherExample(classId=22, name=22, values=[ExampleClass(classId=22, value=0.1, name=22, creation=2022-07-24 20:33:06.238496), ExampleClass(classId=22, value=0.1, name=22, creation=2022-07-24 20:33:06.238497)], dates=[datetime.date(2022, 7, 24), datetime.date(2022, 7, 24)])\n",
      "OtherExample(classId=74, name=74, values=[ExampleClass(classId=74, value=0.1, name=74, creation=2022-07-24 20:33:06.239260), ExampleClass(classId=74, value=0.1, name=74, creation=2022-07-24 20:33:06.239260)], dates=[datetime.date(2022, 7, 24), datetime.date(2022, 7, 24)])\n",
      "OtherExample(classId=81, name=81, values=[ExampleClass(classId=81, value=0.1, name=81, creation=2022-07-24 20:33:06.239350), ExampleClass(classId=81, value=0.1, name=81, creation=2022-07-24 20:33:06.239351)], dates=[datetime.date(2022, 7, 24), datetime.date(2022, 7, 24)])\n",
      "OtherExample(classId=85, name=85, values=[ExampleClass(classId=85, value=0.1, name=85, creation=2022-07-24 20:33:06.239402), ExampleClass(classId=85, value=0.1, name=85, creation=2022-07-24 20:33:06.239403)], dates=[datetime.date(2022, 7, 24), datetime.date(2022, 7, 24)])\n",
      "OtherExample(classId=89, name=89, values=[ExampleClass(classId=89, value=0.1, name=89, creation=2022-07-24 20:33:06.239453), ExampleClass(classId=89, value=0.1, name=89, creation=2022-07-24 20:33:06.239453)], dates=[datetime.date(2022, 7, 24), datetime.date(2022, 7, 24)])\n",
      "OtherExample(classId=30, name=30, values=[ExampleClass(classId=30, value=0.1, name=30, creation=2022-07-24 20:33:06.238689), ExampleClass(classId=30, value=0.1, name=30, creation=2022-07-24 20:33:06.238690)], dates=[datetime.date(2022, 7, 24), datetime.date(2022, 7, 24)])\n",
      "OtherExample(classId=49, name=49, values=[ExampleClass(classId=49, value=0.1, name=49, creation=2022-07-24 20:33:06.238935), ExampleClass(classId=49, value=0.1, name=49, creation=2022-07-24 20:33:06.238935)], dates=[datetime.date(2022, 7, 24), datetime.date(2022, 7, 24)])\n",
      "OtherExample(classId=65, name=65, values=[ExampleClass(classId=65, value=0.1, name=65, creation=2022-07-24 20:33:06.239144), ExampleClass(classId=65, value=0.1, name=65, creation=2022-07-24 20:33:06.239145)], dates=[datetime.date(2022, 7, 24), datetime.date(2022, 7, 24)])\n",
      "OtherExample(classId=90, name=90, values=[ExampleClass(classId=90, value=0.1, name=90, creation=2022-07-24 20:33:06.239465), ExampleClass(classId=90, value=0.1, name=90, creation=2022-07-24 20:33:06.239466)], dates=[datetime.date(2022, 7, 24), datetime.date(2022, 7, 24)])\n",
      "OtherExample(classId=94, name=94, values=[ExampleClass(classId=94, value=0.1, name=94, creation=2022-07-24 20:33:06.239514), ExampleClass(classId=94, value=0.1, name=94, creation=2022-07-24 20:33:06.239515)], dates=[datetime.date(2022, 7, 24), datetime.date(2022, 7, 24)])\n",
      "OtherExample(classId=1, name=1, values=[ExampleClass(classId=1, value=0.1, name=1, creation=2022-07-24 20:33:06.238215), ExampleClass(classId=1, value=0.1, name=1, creation=2022-07-24 20:33:06.238216)], dates=[datetime.date(2022, 7, 24), datetime.date(2022, 7, 24)])\n",
      "OtherExample(classId=73, name=73, values=[ExampleClass(classId=73, value=0.1, name=73, creation=2022-07-24 20:33:06.239246), ExampleClass(classId=73, value=0.1, name=73, creation=2022-07-24 20:33:06.239247)], dates=[datetime.date(2022, 7, 24), datetime.date(2022, 7, 24)])\n",
      "OtherExample(classId=86, name=86, values=[ExampleClass(classId=86, value=0.1, name=86, creation=2022-07-24 20:33:06.239415), ExampleClass(classId=86, value=0.1, name=86, creation=2022-07-24 20:33:06.239415)], dates=[datetime.date(2022, 7, 24), datetime.date(2022, 7, 24)])\n",
      "OtherExample(classId=98, name=98, values=[ExampleClass(classId=98, value=0.1, name=98, creation=2022-07-24 20:33:06.239563), ExampleClass(classId=98, value=0.1, name=98, creation=2022-07-24 20:33:06.239564)], dates=[datetime.date(2022, 7, 24), datetime.date(2022, 7, 24)])\n",
      "OtherExample(classId=21, name=21, values=[ExampleClass(classId=21, value=0.1, name=21, creation=2022-07-24 20:33:06.238483), ExampleClass(classId=21, value=0.1, name=21, creation=2022-07-24 20:33:06.238484)], dates=[datetime.date(2022, 7, 24), datetime.date(2022, 7, 24)])\n",
      "OtherExample(classId=24, name=24, values=[ExampleClass(classId=24, value=0.1, name=24, creation=2022-07-24 20:33:06.238522), ExampleClass(classId=24, value=0.1, name=24, creation=2022-07-24 20:33:06.238522)], dates=[datetime.date(2022, 7, 24), datetime.date(2022, 7, 24)])\n",
      "OtherExample(classId=67, name=67, values=[ExampleClass(classId=67, value=0.1, name=67, creation=2022-07-24 20:33:06.239170), ExampleClass(classId=67, value=0.1, name=67, creation=2022-07-24 20:33:06.239171)], dates=[datetime.date(2022, 7, 24), datetime.date(2022, 7, 24)])\n",
      "OtherExample(classId=75, name=75, values=[ExampleClass(classId=75, value=0.1, name=75, creation=2022-07-24 20:33:06.239273), ExampleClass(classId=75, value=0.1, name=75, creation=2022-07-24 20:33:06.239273)], dates=[datetime.date(2022, 7, 24), datetime.date(2022, 7, 24)])\n",
      "OtherExample(classId=91, name=91, values=[ExampleClass(classId=91, value=0.1, name=91, creation=2022-07-24 20:33:06.239477), ExampleClass(classId=91, value=0.1, name=91, creation=2022-07-24 20:33:06.239478)], dates=[datetime.date(2022, 7, 24), datetime.date(2022, 7, 24)])\n",
      "OtherExample(classId=38, name=38, values=[ExampleClass(classId=38, value=0.1, name=38, creation=2022-07-24 20:33:06.238792), ExampleClass(classId=38, value=0.1, name=38, creation=2022-07-24 20:33:06.238793)], dates=[datetime.date(2022, 7, 24), datetime.date(2022, 7, 24)])\n",
      "OtherExample(classId=56, name=56, values=[ExampleClass(classId=56, value=0.1, name=56, creation=2022-07-24 20:33:06.239025), ExampleClass(classId=56, value=0.1, name=56, creation=2022-07-24 20:33:06.239026)], dates=[datetime.date(2022, 7, 24), datetime.date(2022, 7, 24)])\n",
      "OtherExample(classId=59, name=59, values=[ExampleClass(classId=59, value=0.1, name=59, creation=2022-07-24 20:33:06.239064), ExampleClass(classId=59, value=0.1, name=59, creation=2022-07-24 20:33:06.239065)], dates=[datetime.date(2022, 7, 24), datetime.date(2022, 7, 24)])\n",
      "OtherExample(classId=62, name=62, values=[ExampleClass(classId=62, value=0.1, name=62, creation=2022-07-24 20:33:06.239105), ExampleClass(classId=62, value=0.1, name=62, creation=2022-07-24 20:33:06.239106)], dates=[datetime.date(2022, 7, 24), datetime.date(2022, 7, 24)])\n",
      "OtherExample(classId=66, name=66, values=[ExampleClass(classId=66, value=0.1, name=66, creation=2022-07-24 20:33:06.239157), ExampleClass(classId=66, value=0.1, name=66, creation=2022-07-24 20:33:06.239158)], dates=[datetime.date(2022, 7, 24), datetime.date(2022, 7, 24)])\n",
      "OtherExample(classId=31, name=31, values=[ExampleClass(classId=31, value=0.1, name=31, creation=2022-07-24 20:33:06.238702), ExampleClass(classId=31, value=0.1, name=31, creation=2022-07-24 20:33:06.238703)], dates=[datetime.date(2022, 7, 24), datetime.date(2022, 7, 24)])\n",
      "OtherExample(classId=48, name=48, values=[ExampleClass(classId=48, value=0.1, name=48, creation=2022-07-24 20:33:06.238922), ExampleClass(classId=48, value=0.1, name=48, creation=2022-07-24 20:33:06.238922)], dates=[datetime.date(2022, 7, 24), datetime.date(2022, 7, 24)])\n",
      "OtherExample(classId=58, name=58, values=[ExampleClass(classId=58, value=0.1, name=58, creation=2022-07-24 20:33:06.239051), ExampleClass(classId=58, value=0.1, name=58, creation=2022-07-24 20:33:06.239052)], dates=[datetime.date(2022, 7, 24), datetime.date(2022, 7, 24)])\n",
      "OtherExample(classId=61, name=61, values=[ExampleClass(classId=61, value=0.1, name=61, creation=2022-07-24 20:33:06.239092), ExampleClass(classId=61, value=0.1, name=61, creation=2022-07-24 20:33:06.239093)], dates=[datetime.date(2022, 7, 24), datetime.date(2022, 7, 24)])\n",
      "OtherExample(classId=96, name=96, values=[ExampleClass(classId=96, value=0.1, name=96, creation=2022-07-24 20:33:06.239539), ExampleClass(classId=96, value=0.1, name=96, creation=2022-07-24 20:33:06.239539)], dates=[datetime.date(2022, 7, 24), datetime.date(2022, 7, 24)])\n",
      "OtherExample(classId=3, name=3, values=[ExampleClass(classId=3, value=0.1, name=3, creation=2022-07-24 20:33:06.238247), ExampleClass(classId=3, value=0.1, name=3, creation=2022-07-24 20:33:06.238248)], dates=[datetime.date(2022, 7, 24), datetime.date(2022, 7, 24)])\n",
      "OtherExample(classId=12, name=12, values=[ExampleClass(classId=12, value=0.1, name=12, creation=2022-07-24 20:33:06.238366), ExampleClass(classId=12, value=0.1, name=12, creation=2022-07-24 20:33:06.238367)], dates=[datetime.date(2022, 7, 24), datetime.date(2022, 7, 24)])\n",
      "OtherExample(classId=29, name=29, values=[ExampleClass(classId=29, value=0.1, name=29, creation=2022-07-24 20:33:06.238676), ExampleClass(classId=29, value=0.1, name=29, creation=2022-07-24 20:33:06.238676)], dates=[datetime.date(2022, 7, 24), datetime.date(2022, 7, 24)])\n",
      "OtherExample(classId=41, name=41, values=[ExampleClass(classId=41, value=0.1, name=41, creation=2022-07-24 20:33:06.238830), ExampleClass(classId=41, value=0.1, name=41, creation=2022-07-24 20:33:06.238831)], dates=[datetime.date(2022, 7, 24), datetime.date(2022, 7, 24)])\n",
      "OtherExample(classId=82, name=82, values=[ExampleClass(classId=82, value=0.1, name=82, creation=2022-07-24 20:33:06.239363), ExampleClass(classId=82, value=0.1, name=82, creation=2022-07-24 20:33:06.239364)], dates=[datetime.date(2022, 7, 24), datetime.date(2022, 7, 24)])\n",
      "OtherExample(classId=83, name=83, values=[ExampleClass(classId=83, value=0.1, name=83, creation=2022-07-24 20:33:06.239376), ExampleClass(classId=83, value=0.1, name=83, creation=2022-07-24 20:33:06.239376)], dates=[datetime.date(2022, 7, 24), datetime.date(2022, 7, 24)])\n",
      "OtherExample(classId=26, name=26, values=[ExampleClass(classId=26, value=0.1, name=26, creation=2022-07-24 20:33:06.238636), ExampleClass(classId=26, value=0.1, name=26, creation=2022-07-24 20:33:06.238637)], dates=[datetime.date(2022, 7, 24), datetime.date(2022, 7, 24)])\n",
      "OtherExample(classId=47, name=47, values=[ExampleClass(classId=47, value=0.1, name=47, creation=2022-07-24 20:33:06.238908), ExampleClass(classId=47, value=0.1, name=47, creation=2022-07-24 20:33:06.238909)], dates=[datetime.date(2022, 7, 24), datetime.date(2022, 7, 24)])\n",
      "OtherExample(classId=54, name=54, values=[ExampleClass(classId=54, value=0.1, name=54, creation=2022-07-24 20:33:06.239000), ExampleClass(classId=54, value=0.1, name=54, creation=2022-07-24 20:33:06.239000)], dates=[datetime.date(2022, 7, 24), datetime.date(2022, 7, 24)])\n",
      "OtherExample(classId=55, name=55, values=[ExampleClass(classId=55, value=0.1, name=55, creation=2022-07-24 20:33:06.239012), ExampleClass(classId=55, value=0.1, name=55, creation=2022-07-24 20:33:06.239013)], dates=[datetime.date(2022, 7, 24), datetime.date(2022, 7, 24)])\n",
      "OtherExample(classId=92, name=92, values=[ExampleClass(classId=92, value=0.1, name=92, creation=2022-07-24 20:33:06.239489), ExampleClass(classId=92, value=0.1, name=92, creation=2022-07-24 20:33:06.239490)], dates=[datetime.date(2022, 7, 24), datetime.date(2022, 7, 24)])\n",
      "OtherExample(classId=95, name=95, values=[ExampleClass(classId=95, value=0.1, name=95, creation=2022-07-24 20:33:06.239526), ExampleClass(classId=95, value=0.1, name=95, creation=2022-07-24 20:33:06.239527)], dates=[datetime.date(2022, 7, 24), datetime.date(2022, 7, 24)])\n",
      "OtherExample(classId=97, name=97, values=[ExampleClass(classId=97, value=0.1, name=97, creation=2022-07-24 20:33:06.239551), ExampleClass(classId=97, value=0.1, name=97, creation=2022-07-24 20:33:06.239552)], dates=[datetime.date(2022, 7, 24), datetime.date(2022, 7, 24)])\n",
      "OtherExample(classId=7, name=7, values=[ExampleClass(classId=7, value=0.1, name=7, creation=2022-07-24 20:33:06.238300), ExampleClass(classId=7, value=0.1, name=7, creation=2022-07-24 20:33:06.238301)], dates=[datetime.date(2022, 7, 24), datetime.date(2022, 7, 24)])\n",
      "OtherExample(classId=18, name=18, values=[ExampleClass(classId=18, value=0.1, name=18, creation=2022-07-24 20:33:06.238443), ExampleClass(classId=18, value=0.1, name=18, creation=2022-07-24 20:33:06.238444)], dates=[datetime.date(2022, 7, 24), datetime.date(2022, 7, 24)])\n",
      "OtherExample(classId=20, name=20, values=[ExampleClass(classId=20, value=0.1, name=20, creation=2022-07-24 20:33:06.238469), ExampleClass(classId=20, value=0.1, name=20, creation=2022-07-24 20:33:06.238470)], dates=[datetime.date(2022, 7, 24), datetime.date(2022, 7, 24)])\n",
      "OtherExample(classId=35, name=35, values=[ExampleClass(classId=35, value=0.1, name=35, creation=2022-07-24 20:33:06.238754), ExampleClass(classId=35, value=0.1, name=35, creation=2022-07-24 20:33:06.238754)], dates=[datetime.date(2022, 7, 24), datetime.date(2022, 7, 24)])\n",
      "OtherExample(classId=42, name=42, values=[ExampleClass(classId=42, value=0.1, name=42, creation=2022-07-24 20:33:06.238843), ExampleClass(classId=42, value=0.1, name=42, creation=2022-07-24 20:33:06.238844)], dates=[datetime.date(2022, 7, 24), datetime.date(2022, 7, 24)])\n",
      "OtherExample(classId=44, name=44, values=[ExampleClass(classId=44, value=0.1, name=44, creation=2022-07-24 20:33:06.238869), ExampleClass(classId=44, value=0.1, name=44, creation=2022-07-24 20:33:06.238870)], dates=[datetime.date(2022, 7, 24), datetime.date(2022, 7, 24)])\n",
      "OtherExample(classId=57, name=57, values=[ExampleClass(classId=57, value=0.1, name=57, creation=2022-07-24 20:33:06.239038), ExampleClass(classId=57, value=0.1, name=57, creation=2022-07-24 20:33:06.239039)], dates=[datetime.date(2022, 7, 24), datetime.date(2022, 7, 24)])\n",
      "OtherExample(classId=99, name=99, values=[ExampleClass(classId=99, value=0.1, name=99, creation=2022-07-24 20:33:06.239576), ExampleClass(classId=99, value=0.1, name=99, creation=2022-07-24 20:33:06.239576)], dates=[datetime.date(2022, 7, 24), datetime.date(2022, 7, 24)])\n",
      "OtherExample(classId=5, name=5, values=[ExampleClass(classId=5, value=0.1, name=5, creation=2022-07-24 20:33:06.238274), ExampleClass(classId=5, value=0.1, name=5, creation=2022-07-24 20:33:06.238275)], dates=[datetime.date(2022, 7, 24), datetime.date(2022, 7, 24)])\n",
      "OtherExample(classId=40, name=40, values=[ExampleClass(classId=40, value=0.1, name=40, creation=2022-07-24 20:33:06.238818), ExampleClass(classId=40, value=0.1, name=40, creation=2022-07-24 20:33:06.238818)], dates=[datetime.date(2022, 7, 24), datetime.date(2022, 7, 24)])\n",
      "OtherExample(classId=52, name=52, values=[ExampleClass(classId=52, value=0.1, name=52, creation=2022-07-24 20:33:06.238973), ExampleClass(classId=52, value=0.1, name=52, creation=2022-07-24 20:33:06.238974)], dates=[datetime.date(2022, 7, 24), datetime.date(2022, 7, 24)])\n",
      "OtherExample(classId=63, name=63, values=[ExampleClass(classId=63, value=0.1, name=63, creation=2022-07-24 20:33:06.239118), ExampleClass(classId=63, value=0.1, name=63, creation=2022-07-24 20:33:06.239119)], dates=[datetime.date(2022, 7, 24), datetime.date(2022, 7, 24)])\n",
      "OtherExample(classId=69, name=69, values=[ExampleClass(classId=69, value=0.1, name=69, creation=2022-07-24 20:33:06.239196), ExampleClass(classId=69, value=0.1, name=69, creation=2022-07-24 20:33:06.239197)], dates=[datetime.date(2022, 7, 24), datetime.date(2022, 7, 24)])\n",
      "OtherExample(classId=0, name=0, values=[ExampleClass(classId=0, value=0.1, name=0, creation=2022-07-24 20:33:06.238149), ExampleClass(classId=0, value=0.1, name=0, creation=2022-07-24 20:33:06.238158)], dates=[datetime.date(2022, 7, 24), datetime.date(2022, 7, 24)])\n",
      "OtherExample(classId=10, name=10, values=[ExampleClass(classId=10, value=0.1, name=10, creation=2022-07-24 20:33:06.238339), ExampleClass(classId=10, value=0.1, name=10, creation=2022-07-24 20:33:06.238340)], dates=[datetime.date(2022, 7, 24), datetime.date(2022, 7, 24)])\n",
      "OtherExample(classId=13, name=13, values=[ExampleClass(classId=13, value=0.1, name=13, creation=2022-07-24 20:33:06.238379), ExampleClass(classId=13, value=0.1, name=13, creation=2022-07-24 20:33:06.238380)], dates=[datetime.date(2022, 7, 24), datetime.date(2022, 7, 24)])\n",
      "OtherExample(classId=19, name=19, values=[ExampleClass(classId=19, value=0.1, name=19, creation=2022-07-24 20:33:06.238456), ExampleClass(classId=19, value=0.1, name=19, creation=2022-07-24 20:33:06.238457)], dates=[datetime.date(2022, 7, 24), datetime.date(2022, 7, 24)])\n",
      "OtherExample(classId=27, name=27, values=[ExampleClass(classId=27, value=0.1, name=27, creation=2022-07-24 20:33:06.238649), ExampleClass(classId=27, value=0.1, name=27, creation=2022-07-24 20:33:06.238650)], dates=[datetime.date(2022, 7, 24), datetime.date(2022, 7, 24)])\n",
      "OtherExample(classId=33, name=33, values=[ExampleClass(classId=33, value=0.1, name=33, creation=2022-07-24 20:33:06.238728), ExampleClass(classId=33, value=0.1, name=33, creation=2022-07-24 20:33:06.238729)], dates=[datetime.date(2022, 7, 24), datetime.date(2022, 7, 24)])\n",
      "OtherExample(classId=51, name=51, values=[ExampleClass(classId=51, value=0.1, name=51, creation=2022-07-24 20:33:06.238960), ExampleClass(classId=51, value=0.1, name=51, creation=2022-07-24 20:33:06.238961)], dates=[datetime.date(2022, 7, 24), datetime.date(2022, 7, 24)])\n",
      "OtherExample(classId=68, name=68, values=[ExampleClass(classId=68, value=0.1, name=68, creation=2022-07-24 20:33:06.239183), ExampleClass(classId=68, value=0.1, name=68, creation=2022-07-24 20:33:06.239184)], dates=[datetime.date(2022, 7, 24), datetime.date(2022, 7, 24)])\n",
      "OtherExample(classId=70, name=70, values=[ExampleClass(classId=70, value=0.1, name=70, creation=2022-07-24 20:33:06.239209), ExampleClass(classId=70, value=0.1, name=70, creation=2022-07-24 20:33:06.239209)], dates=[datetime.date(2022, 7, 24), datetime.date(2022, 7, 24)])\n",
      "OtherExample(classId=79, name=79, values=[ExampleClass(classId=79, value=0.1, name=79, creation=2022-07-24 20:33:06.239325), ExampleClass(classId=79, value=0.1, name=79, creation=2022-07-24 20:33:06.239325)], dates=[datetime.date(2022, 7, 24), datetime.date(2022, 7, 24)])\n",
      "OtherExample(classId=80, name=80, values=[ExampleClass(classId=80, value=0.1, name=80, creation=2022-07-24 20:33:06.239337), ExampleClass(classId=80, value=0.1, name=80, creation=2022-07-24 20:33:06.239338)], dates=[datetime.date(2022, 7, 24), datetime.date(2022, 7, 24)])\n",
      "OtherExample(classId=84, name=84, values=[ExampleClass(classId=84, value=0.1, name=84, creation=2022-07-24 20:33:06.239389), ExampleClass(classId=84, value=0.1, name=84, creation=2022-07-24 20:33:06.239390)], dates=[datetime.date(2022, 7, 24), datetime.date(2022, 7, 24)])\n",
      "OtherExample(classId=88, name=88, values=[ExampleClass(classId=88, value=0.1, name=88, creation=2022-07-24 20:33:06.239440), ExampleClass(classId=88, value=0.1, name=88, creation=2022-07-24 20:33:06.239441)], dates=[datetime.date(2022, 7, 24), datetime.date(2022, 7, 24)])\n",
      "OtherExample(classId=6, name=6, values=[ExampleClass(classId=6, value=0.1, name=6, creation=2022-07-24 20:33:06.238287), ExampleClass(classId=6, value=0.1, name=6, creation=2022-07-24 20:33:06.238288)], dates=[datetime.date(2022, 7, 24), datetime.date(2022, 7, 24)])\n",
      "OtherExample(classId=32, name=32, values=[ExampleClass(classId=32, value=0.1, name=32, creation=2022-07-24 20:33:06.238715), ExampleClass(classId=32, value=0.1, name=32, creation=2022-07-24 20:33:06.238715)], dates=[datetime.date(2022, 7, 24), datetime.date(2022, 7, 24)])\n",
      "OtherExample(classId=37, name=37, values=[ExampleClass(classId=37, value=0.1, name=37, creation=2022-07-24 20:33:06.238779), ExampleClass(classId=37, value=0.1, name=37, creation=2022-07-24 20:33:06.238780)], dates=[datetime.date(2022, 7, 24), datetime.date(2022, 7, 24)])\n",
      "OtherExample(classId=39, name=39, values=[ExampleClass(classId=39, value=0.1, name=39, creation=2022-07-24 20:33:06.238805), ExampleClass(classId=39, value=0.1, name=39, creation=2022-07-24 20:33:06.238806)], dates=[datetime.date(2022, 7, 24), datetime.date(2022, 7, 24)])\n",
      "OtherExample(classId=53, name=53, values=[ExampleClass(classId=53, value=0.1, name=53, creation=2022-07-24 20:33:06.238986), ExampleClass(classId=53, value=0.1, name=53, creation=2022-07-24 20:33:06.238987)], dates=[datetime.date(2022, 7, 24), datetime.date(2022, 7, 24)])\n",
      "OtherExample(classId=64, name=64, values=[ExampleClass(classId=64, value=0.1, name=64, creation=2022-07-24 20:33:06.239131), ExampleClass(classId=64, value=0.1, name=64, creation=2022-07-24 20:33:06.239132)], dates=[datetime.date(2022, 7, 24), datetime.date(2022, 7, 24)])\n",
      "OtherExample(classId=72, name=72, values=[ExampleClass(classId=72, value=0.1, name=72, creation=2022-07-24 20:33:06.239234), ExampleClass(classId=72, value=0.1, name=72, creation=2022-07-24 20:33:06.239235)], dates=[datetime.date(2022, 7, 24), datetime.date(2022, 7, 24)])\n",
      "OtherExample(classId=2, name=2, values=[ExampleClass(classId=2, value=0.1, name=2, creation=2022-07-24 20:33:06.238233), ExampleClass(classId=2, value=0.1, name=2, creation=2022-07-24 20:33:06.238234)], dates=[datetime.date(2022, 7, 24), datetime.date(2022, 7, 24)])\n",
      "OtherExample(classId=23, name=23, values=[ExampleClass(classId=23, value=0.1, name=23, creation=2022-07-24 20:33:06.238509), ExampleClass(classId=23, value=0.1, name=23, creation=2022-07-24 20:33:06.238510)], dates=[datetime.date(2022, 7, 24), datetime.date(2022, 7, 24)])\n",
      "OtherExample(classId=71, name=71, values=[ExampleClass(classId=71, value=0.1, name=71, creation=2022-07-24 20:33:06.239221), ExampleClass(classId=71, value=0.1, name=71, creation=2022-07-24 20:33:06.239222)], dates=[datetime.date(2022, 7, 24), datetime.date(2022, 7, 24)])\n",
      "OtherExample(classId=76, name=76, values=[ExampleClass(classId=76, value=0.1, name=76, creation=2022-07-24 20:33:06.239286), ExampleClass(classId=76, value=0.1, name=76, creation=2022-07-24 20:33:06.239286)], dates=[datetime.date(2022, 7, 24), datetime.date(2022, 7, 24)])\n",
      "OtherExample(classId=77, name=77, values=[ExampleClass(classId=77, value=0.1, name=77, creation=2022-07-24 20:33:06.239299), ExampleClass(classId=77, value=0.1, name=77, creation=2022-07-24 20:33:06.239300)], dates=[datetime.date(2022, 7, 24), datetime.date(2022, 7, 24)])\n",
      "OtherExample(classId=50, name=50, values=[ExampleClass(classId=50, value=0.1, name=50, creation=2022-07-24 20:33:06.238947), ExampleClass(classId=50, value=0.1, name=50, creation=2022-07-24 20:33:06.238948)], dates=[datetime.date(2022, 7, 24), datetime.date(2022, 7, 24)])\n",
      "OtherExample(classId=60, name=60, values=[ExampleClass(classId=60, value=0.1, name=60, creation=2022-07-24 20:33:06.239079), ExampleClass(classId=60, value=0.1, name=60, creation=2022-07-24 20:33:06.239080)], dates=[datetime.date(2022, 7, 24), datetime.date(2022, 7, 24)])\n",
      "OtherExample(classId=78, name=78, values=[ExampleClass(classId=78, value=0.1, name=78, creation=2022-07-24 20:33:06.239312), ExampleClass(classId=78, value=0.1, name=78, creation=2022-07-24 20:33:06.239313)], dates=[datetime.date(2022, 7, 24), datetime.date(2022, 7, 24)])\n",
      "OtherExample(classId=87, name=87, values=[ExampleClass(classId=87, value=0.1, name=87, creation=2022-07-24 20:33:06.239428), ExampleClass(classId=87, value=0.1, name=87, creation=2022-07-24 20:33:06.239429)], dates=[datetime.date(2022, 7, 24), datetime.date(2022, 7, 24)])\n",
      "OtherExample(classId=8, name=8, values=[ExampleClass(classId=8, value=0.1, name=8, creation=2022-07-24 20:33:06.238313), ExampleClass(classId=8, value=0.1, name=8, creation=2022-07-24 20:33:06.238314)], dates=[datetime.date(2022, 7, 24), datetime.date(2022, 7, 24)])\n",
      "OtherExample(classId=14, name=14, values=[ExampleClass(classId=14, value=0.1, name=14, creation=2022-07-24 20:33:06.238392), ExampleClass(classId=14, value=0.1, name=14, creation=2022-07-24 20:33:06.238393)], dates=[datetime.date(2022, 7, 24), datetime.date(2022, 7, 24)])\n",
      "OtherExample(classId=15, name=15, values=[ExampleClass(classId=15, value=0.1, name=15, creation=2022-07-24 20:33:06.238405), ExampleClass(classId=15, value=0.1, name=15, creation=2022-07-24 20:33:06.238406)], dates=[datetime.date(2022, 7, 24), datetime.date(2022, 7, 24)])\n",
      "OtherExample(classId=25, name=25, values=[ExampleClass(classId=25, value=0.1, name=25, creation=2022-07-24 20:33:06.238621), ExampleClass(classId=25, value=0.1, name=25, creation=2022-07-24 20:33:06.238622)], dates=[datetime.date(2022, 7, 24), datetime.date(2022, 7, 24)])\n",
      "OtherExample(classId=34, name=34, values=[ExampleClass(classId=34, value=0.1, name=34, creation=2022-07-24 20:33:06.238741), ExampleClass(classId=34, value=0.1, name=34, creation=2022-07-24 20:33:06.238742)], dates=[datetime.date(2022, 7, 24), datetime.date(2022, 7, 24)])\n",
      "OtherExample(classId=36, name=36, values=[ExampleClass(classId=36, value=0.1, name=36, creation=2022-07-24 20:33:06.238766), ExampleClass(classId=36, value=0.1, name=36, creation=2022-07-24 20:33:06.238767)], dates=[datetime.date(2022, 7, 24), datetime.date(2022, 7, 24)])\n",
      "OtherExample(classId=45, name=45, values=[ExampleClass(classId=45, value=0.1, name=45, creation=2022-07-24 20:33:06.238883), ExampleClass(classId=45, value=0.1, name=45, creation=2022-07-24 20:33:06.238884)], dates=[datetime.date(2022, 7, 24), datetime.date(2022, 7, 24)])\n",
      "OtherExample(classId=46, name=46, values=[ExampleClass(classId=46, value=0.1, name=46, creation=2022-07-24 20:33:06.238896), ExampleClass(classId=46, value=0.1, name=46, creation=2022-07-24 20:33:06.238896)], dates=[datetime.date(2022, 7, 24), datetime.date(2022, 7, 24)])\n"
     ]
    }
   ],
   "source": [
    "with dataset.open('r') as datasetReader:\n",
    "    for data in datasetReader:\n",
    "        print(data)\n"
   ]
  }
 ],
 "metadata": {
  "kernelspec": {
   "display_name": "heart_failure_detection",
   "language": "python",
   "name": "heart_failure_detection"
  },
  "language_info": {
   "codemirror_mode": {
    "name": "ipython",
    "version": 3
   },
   "file_extension": ".py",
   "mimetype": "text/x-python",
   "name": "python",
   "nbconvert_exporter": "python",
   "pygments_lexer": "ipython3",
   "version": "3.9.13"
  },
  "vscode": {
   "interpreter": {
    "hash": "e3852ce04042aa2e1dab3369218f31d27e870cf66bc1376cc92437669e43ee10"
   }
  }
 },
 "nbformat": 4,
 "nbformat_minor": 5
}
